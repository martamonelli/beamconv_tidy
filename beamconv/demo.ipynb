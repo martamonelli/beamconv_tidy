{
 "cells": [
  {
   "cell_type": "markdown",
   "metadata": {},
   "source": [
    "# Demo\n",
    "\n",
    "[...]"
   ]
  },
  {
   "cell_type": "code",
   "execution_count": 1,
   "metadata": {},
   "outputs": [],
   "source": [
    "import ducc0\n",
    "\n",
    "import matplotlib\n",
    "import matplotlib.pyplot as plt\n",
    "\n",
    "import numpy as np\n",
    "import healpy as hp\n",
    "from beamconv import ScanStrategy\n",
    "import qpoint as qp"
   ]
  },
  {
   "cell_type": "markdown",
   "metadata": {},
   "source": [
    "[...]"
   ]
  },
  {
   "cell_type": "code",
   "execution_count": 2,
   "metadata": {},
   "outputs": [
    {
     "name": "stdout",
     "output_type": "stream",
     "text": [
      "Sigma is 0.000000 arcmin (0.000000 rad) \n",
      "-> fwhm is 0.000000 arcmin\n"
     ]
    }
   ],
   "source": [
    "# reading cls from .txt file\n",
    "cls = np.loadtxt('../ancillary/wmap7_r0p03_lensed_uK_ext.txt',unpack=True) # Cl in uK^2\n",
    "ell, cls = cls[0], cls[1:]\n",
    "\n",
    "# calculating alm from cls\n",
    "lmax=128\n",
    "np.random.seed(25) # why do I need it?\n",
    "alm = hp.synalm(cls, lmax=lmax, new=True, verbose=True) # uK\n",
    "\n",
    "# calculating map0 from alm\n",
    "map0 = hp.alm2map(alm, 512)\n",
    "\n",
    "#fig, (ax1, ax2, ax3) = plt.subplots(ncols=3)\n",
    "#plt.axes(ax1)\n",
    "#hp.mollview(map0[0],title='input map (T)', hold=True)\n",
    "#plt.axes(ax2)\n",
    "#hp.mollview(map0[1],title='input map (Q)', hold=True)\n",
    "#plt.axes(ax3)\n",
    "#hp.mollview(map0[2],title='input map (Q)', hold=True)\n",
    "#plt.show()"
   ]
  },
  {
   "cell_type": "markdown",
   "metadata": {},
   "source": [
    "### Setting up beamconv\n",
    "<mark>QUESTION:</mark> I wanted to produce <b>noisy</b> TODs by exploiting the functionality of <code>ducc0</code>. My idea was to generate the clean TODs from <code>beamconv</code> and add the noise signal. This procedure should be done detector-by-detector. I wanted to produce the TOD of a single detector (not a pair!) in order to have a minimal version of this functionality. Why setting <code>no_pairs=True</code> doesn't work?"
   ]
  },
  {
   "cell_type": "code",
   "execution_count": 3,
   "metadata": {},
   "outputs": [],
   "source": [
    "# setting up ScanStrategy and its options\n",
    "fwhm = 40\n",
    "beam_opts = dict(lmax=lmax,\n",
    "                 fwhm=fwhm,        # Gaussian co-pol beam, so only specify FWHM (arcmin)\n",
    "                 btype='Gaussian',\n",
    "                 no_pairs=True)    #isn't this the correct way to use a SINGLE DETECTOR?"
   ]
  },
  {
   "cell_type": "markdown",
   "metadata": {},
   "source": [
    "[...]"
   ]
  },
  {
   "cell_type": "code",
   "execution_count": 4,
   "metadata": {},
   "outputs": [],
   "source": [
    "ctime0 = 1510000000\n",
    "mlen = 1 * 24 * 60 * 60        # Mission length in seconds\n",
    "\n",
    "mmax = 2\n",
    "nside_spin = 128\n",
    "preview_pointing = False\n",
    "verbose = True\n",
    "\n",
    "ss = ScanStrategy(duration=mlen,\n",
    "        external_pointing=True,\n",
    "        theta_antisun=45.,\n",
    "        theta_boresight = 50.,\n",
    "        freq_antisun = 192.348, \n",
    "        freq_boresight = 0.314, \n",
    "        sample_rate = 19.1,\n",
    "        jitter_amp=0.0,\n",
    "        location='space',\n",
    "        ctime0=ctime0)\n",
    "\n",
    "scan_opts = dict(\n",
    "        q_bore_func=ss.litebird_scan,\n",
    "        ctime_func=ss.litebird_ctime,\n",
    "        use_litebird_scan=True,\n",
    "        q_bore_kwargs=dict(),\n",
    "        ctime_kwargs=dict(),\n",
    "        max_spin=mmax,\n",
    "        nside_spin=nside_spin,\n",
    "        preview_pointing=preview_pointing,\n",
    "        verbose=verbose,\n",
    "        save_tod=True) #add HWP here"
   ]
  },
  {
   "cell_type": "markdown",
   "metadata": {},
   "source": [
    "Why if I re-run the cell below it scans with 4 detectors?"
   ]
  },
  {
   "cell_type": "code",
   "execution_count": 5,
   "metadata": {},
   "outputs": [
    {
     "name": "stdout",
     "output_type": "stream",
     "text": [
      "Scanning with 2 detectors\n",
      "[rank 000]: working on: r000c000A, r000c000B\n",
      "[rank 000]:\tWorking on chunk 000: samples 0-165024\n",
      "Implementing litebird scan\n",
      "[rank 000]:\tWorking on chunk 001: samples 165024-330048\n",
      "Implementing litebird scan\n",
      "[rank 000]:\tWorking on chunk 002: samples 330048-495072\n",
      "Implementing litebird scan\n",
      "[rank 000]:\tWorking on chunk 003: samples 495072-660096\n",
      "Implementing litebird scan\n",
      "[rank 000]:\tWorking on chunk 004: samples 660096-825120\n",
      "Implementing litebird scan\n",
      "[rank 000]:\tWorking on chunk 005: samples 825120-990144\n",
      "Implementing litebird scan\n",
      "[rank 000]:\tWorking on chunk 006: samples 990144-1155168\n",
      "Implementing litebird scan\n",
      "[rank 000]:\tWorking on chunk 007: samples 1155168-1320192\n",
      "Implementing litebird scan\n",
      "[rank 000]:\tWorking on chunk 008: samples 1320192-1485216\n",
      "Implementing litebird scan\n",
      "[rank 000]:\tWorking on chunk 009: samples 1485216-1650240\n",
      "Implementing litebird scan\n"
     ]
    }
   ],
   "source": [
    "# create a square grid of Gaussian beams (how is f.o.v. related to the number of beams?)\n",
    "ss.create_focal_plane(nrow=1, ncol=1, fov=1, **beam_opts)\n",
    "#ss.create_focal_plane(nrow=3, ncol=3, fov=3, **beam_opts)\n",
    "\n",
    "# calculate tods in ten chunks (they are 10, right?)\n",
    "chunks = ss.partition_mission(0.1 * ss.mlen * ss.fsamp)\n",
    "\n",
    "# allocate and assign parameters for mapmaking\n",
    "ss.allocate_maps(nside=128)\n",
    "\n",
    "ss.scan_instrument_mpi(alm, **scan_opts)\n",
    "\n",
    "# solve for the maps\n",
    "maps, cond, proj = ss.solve_for_map(return_proj = True)\n"
   ]
  },
  {
   "cell_type": "code",
   "execution_count": 6,
   "metadata": {},
   "outputs": [],
   "source": [
    "# parameters for generating noise with ducc0\n",
    "sigma = 10\n",
    "f_min=1e-4\n",
    "f_knee=1e-1\n",
    "f_samp=19.1\n",
    "slope=-1.7\n",
    "nsamp = int(0.1 * ss.mlen * ss.fsamp)\n",
    "\n",
    "# setting up and fillind TODs (clean, noisy and noise-only) \n",
    "clean_TOD = np.empty((1,1,int(ss.mlen*ss.fsamp)))\n",
    "noisy_TOD = np.empty((1,1,int(ss.mlen*ss.fsamp)))\n",
    "noise_TOD = np.empty((1,1,int(ss.mlen*ss.fsamp)))"
   ]
  },
  {
   "cell_type": "markdown",
   "metadata": {},
   "source": [
    "<mark>QUESTION:</mark> I'm using <code>ss.data()</code> get the TOD. Given that <code>beams[0][0]</code> is a pair of detectors, what is the TOD that I'm getting?"
   ]
  },
  {
   "cell_type": "code",
   "execution_count": 7,
   "metadata": {},
   "outputs": [],
   "source": [
    "for dx in np.arange(1):\n",
    "    for dy in np.arange(1):\n",
    "        gen = ducc0.misc.OofaNoise(sigma, f_min, f_knee, f_samp, slope)\n",
    "        for chunk in np.arange(10):\n",
    "            inp = np.random.normal(0.,1.,(nsamp,))\n",
    "            noise = gen.filterGaussian(inp)\n",
    "            clean_data = ss.data(chunks[chunk],ss.beams[dx][dy],data_type='tod')\n",
    "            noisy_data = clean_data + noise\n",
    "            clean_TOD[dx,dy,int(chunk*ss.mlen*ss.fsamp/10):int((chunk+1)*ss.mlen*ss.fsamp/10)] = clean_data\n",
    "            noisy_TOD[dx,dy,int(chunk*ss.mlen*ss.fsamp/10):int((chunk+1)*ss.mlen*ss.fsamp/10)] = noisy_data\n",
    "            noise_TOD[dx,dy,int(chunk*ss.mlen*ss.fsamp/10):int((chunk+1)*ss.mlen*ss.fsamp/10)] = noise"
   ]
  },
  {
   "cell_type": "code",
   "execution_count": 8,
   "metadata": {},
   "outputs": [
    {
     "data": {
      "text/plain": [
       "[<beamconv.detector.Beam at 0x7fa4facea520>,\n",
       " <beamconv.detector.Beam at 0x7fa4facea6a0>]"
      ]
     },
     "execution_count": 8,
     "metadata": {},
     "output_type": "execute_result"
    }
   ],
   "source": [
    "ss.beams[0]"
   ]
  },
  {
   "cell_type": "code",
   "execution_count": 9,
   "metadata": {},
   "outputs": [
    {
     "data": {
      "image/png": "[encoded data removed]",
      "text/plain": [
       "<Figure size 432x288 with 1 Axes>"
      ]
     },
     "metadata": {
      "needs_background": "light"
     },
     "output_type": "display_data"
    },
    {
     "data": {
      "image/png": "[encoded data removed]",
      "text/plain": [
       "<Figure size 432x288 with 1 Axes>"
      ]
     },
     "metadata": {
      "needs_background": "light"
     },
     "output_type": "display_data"
    }
   ],
   "source": [
    "# evaluating power spectrum\n",
    "ps = np.abs(np.fft.fft(noise_TOD[0,0,:]))**2 / (nsamp*10)\n",
    "time_step = 1. / f_samp\n",
    "freqs = np.fft.fftfreq(noise_TOD[0,0,:].size, time_step)\n",
    "ps_theory = sigma**2 * ((freqs**2+f_knee**2)/(freqs**2+f_min**2))**(-slope/2)\n",
    "\n",
    "# plotting\n",
    "#plt.plot(freqs[idx], ps[idx])\n",
    "plt.loglog(freqs[:ps.size//2],ps[:ps.size//2],'cadetblue')\n",
    "plt.loglog(freqs[:ps.size//2],ps_theory[:ps.size//2],'black')\n",
    "plt.show()\n",
    "\n",
    "plt.plot(noisy_TOD[0,0,:],'teal')\n",
    "plt.plot(clean_TOD[0,0,:],'goldenrod')\n",
    "plt.show()"
   ]
  },
  {
   "cell_type": "code",
   "execution_count": null,
   "metadata": {},
   "outputs": [],
   "source": []
  }
 ],
 "metadata": {
  "kernelspec": {
   "display_name": "Python 3",
   "language": "python",
   "name": "python3"
  },
  "language_info": {
   "codemirror_mode": {
    "name": "ipython",
    "version": 3
   },
   "file_extension": ".py",
   "mimetype": "text/x-python",
   "name": "python",
   "nbconvert_exporter": "python",
   "pygments_lexer": "ipython3",
   "version": "3.8.5"
  }
 },
 "nbformat": 4,
 "nbformat_minor": 4
}
