{
 "cells": [
  {
   "cell_type": "markdown",
   "metadata": {},
   "source": [
    "# Messing with the dipole module\n",
    "\n",
    "[...]"
   ]
  },
  {
   "cell_type": "markdown",
   "metadata": {},
   "source": [
    "### What am I trying to do\n",
    "[...] <b>dipole module of LiteBIRD simulation</b> (<a href=\"https://github.com/AdriJD/beamconv\">[...]</a>) "
   ]
  },
  {
   "cell_type": "code",
   "execution_count": 61,
   "metadata": {},
   "outputs": [],
   "source": [
    "import numpy as np\n",
    "from matplotlib import pyplot as plt\n",
    "\n",
    "from astropy.time import Time\n",
    "\n",
    "# importing a slightly modified version of the spacecraft.py file\n",
    "from spacecraft import SpacecraftOrbit\n",
    "from spacecraft import spacecraft_pos_and_vel\n",
    "\n",
    "# setting up the scanning strategy parameters\n",
    "ctime0 = 1510000000            # initial time\n",
    "mlen = 1 * 24 * 60 * 60        # mission length in seconds (one day!)\n",
    "\n",
    "ctime0 = Time(ctime0, format=\"unix\") #conversion to astropy object\n",
    "\n",
    "orbit = SpacecraftOrbit(ctime0)\n",
    "\n",
    "pos_vel = spacecraft_pos_and_vel(\n",
    "            orbit,\n",
    "            start_time=ctime0,\n",
    "            time_span_s=mlen,\n",
    "            delta_time_s=3600.\n",
    ")\n",
    "\n",
    "pos_test = pos_vel.positions_km\n",
    "vel_test = pos_vel.velocities_km_s\n",
    "\n",
    "#print(pos_test)\n",
    "#print(vel_test)"
   ]
  },
  {
   "cell_type": "code",
   "execution_count": 57,
   "metadata": {},
   "outputs": [],
   "source": [
    "from astropy.constants import c as c_light\n",
    "from astropy.constants import h, k_B\n",
    "\n",
    "C_LIGHT_KM_S = c_light.value / 1e3\n",
    "H_OVER_K_B = h.value / k_B.value\n",
    "\n",
    "def planck(nu_hz, t_k):\n",
    "    \"\"\"Return occupation number at frequency nu_hz and temperature t_k\"\"\"\n",
    "    return 1 / (np.exp(H_OVER_K_B * nu_hz / t_k) - 1)\n",
    "\n",
    "def compute_scalar_product(theta, phi, v):\n",
    "    \"\"\"Return the scalar (dot) product between a given direction and a velocity\"\"\"\n",
    "    dx, dy, dz = np.sin(theta) * np.cos(phi), np.sin(theta) * np.sin(phi), np.cos(theta)\n",
    "\n",
    "    return dx * v[0] + dy * v[1] + dz * v[2]\n",
    "\n",
    "def calculate_beta(theta, phi, v_km_s):\n",
    "    \"\"\"Return a 2-tuple containing β·n and β\"\"\"\n",
    "    beta_dot_n = compute_scalar_product(theta, phi, v_km_s) / C_LIGHT_KM_S\n",
    "    beta = np.sqrt(v_km_s[0] ** 2 + v_km_s[1] ** 2 + v_km_s[2] ** 2) / C_LIGHT_KM_S\n",
    "\n",
    "    return beta_dot_n, beta\n",
    "\n",
    "# Full formula in linearized units (the most widely used):\n",
    "def compute_dipole_for_one_sample_total_from_lin_t(\n",
    "    theta, phi, v_km_s, t_cmb_k, nu_hz, f_x, planck_t0\n",
    "):\n",
    "    beta_dot_n, beta = calculate_beta(theta, phi, v_km_s)\n",
    "    gamma = 1 / np.sqrt(1 - beta ** 2)\n",
    "\n",
    "    planck_t = planck(nu_hz, t_cmb_k / gamma / (1 - beta_dot_n))\n",
    "\n",
    "    return t_cmb_k / f_x * (planck_t / planck_t0 - 1)"
   ]
  },
  {
   "cell_type": "code",
   "execution_count": 60,
   "metadata": {},
   "outputs": [
    {
     "name": "stdout",
     "output_type": "stream",
     "text": [
      "[-2.47348424 -2.47172687 -2.47229014]\n"
     ]
    }
   ],
   "source": [
    "t_cmb_k = 2.725\n",
    "nu_hz = 140*1e9\n",
    "f_x = 1\n",
    "planck_t0 = 1\n",
    "\n",
    "theta = np.ones(len(vel_test[0]))\n",
    "phi = np.ones(len(vel_test[0]))\n",
    "\n",
    "compute_scalar_product(theta,phi,vel_test)\n",
    "\n",
    "print(compute_dipole_for_one_sample_total_from_lin_t(theta,phi,vel_test,t_cmb_k,nu_hz,f_x,planck_t0))"
   ]
  }
 ],
 "metadata": {
  "kernelspec": {
   "display_name": "Python 3 (ipykernel)",
   "language": "python",
   "name": "python3"
  },
  "language_info": {
   "codemirror_mode": {
    "name": "ipython",
    "version": 3
   },
   "file_extension": ".py",
   "mimetype": "text/x-python",
   "name": "python",
   "nbconvert_exporter": "python",
   "pygments_lexer": "ipython3",
   "version": "3.8.5"
  }
 },
 "nbformat": 4,
 "nbformat_minor": 4
}
