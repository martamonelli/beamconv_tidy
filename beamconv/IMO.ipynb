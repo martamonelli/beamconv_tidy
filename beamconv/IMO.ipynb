{
 "cells": [
  {
   "cell_type": "code",
   "execution_count": 1,
   "metadata": {},
   "outputs": [],
   "source": [
    "import numpy as np\n",
    "\n",
    "# LiteBIRD's IMO\n",
    "import json\n",
    "\n",
    "# opening IMO schema.json file and interpreting it as a dictionary\n",
    "data = json.load(open('/afs/mpa/temp/monelli/litebird/litebird_imo-master/IMO/schema.json',))  "
   ]
  },
  {
   "cell_type": "markdown",
   "metadata": {},
   "source": [
    "In the next cell I build up a list of dictionaries. Each element in the list is a dictionary that contains all the relevant information associated to one of the detectors of the M1-140 channel."
   ]
  },
  {
   "cell_type": "code",
   "execution_count": 2,
   "metadata": {},
   "outputs": [
    {
     "name": "stdout",
     "output_type": "stream",
     "text": [
      "the M1-140 channel has 366 detectors\n"
     ]
    }
   ],
   "source": [
    "# looking into the IMO, data['data_files'] is where the relevant info is stored \n",
    "data_files = data['data_files']\n",
    "\n",
    "# counting how many objects are in data_files\n",
    "nkey=0\n",
    "for key in data_files:\n",
    "    nkey = nkey+1\n",
    "\n",
    "# looking for the detectors belonging to the M1-140 channel\n",
    "for i in range(nkey):\n",
    "    test = data_files[i]\n",
    "    if(test['name'] == 'channel_info'):\n",
    "        metadata = test['metadata']\n",
    "        if(metadata['channel'] == 'M1-140'):\n",
    "            detector_names = metadata['detector_names']\n",
    "            break\n",
    "\n",
    "ndet = len(detector_names)\n",
    "det_indices = range(ndet)\n",
    "print('the M1-140 channel has '+str(ndet)+' detectors')\n",
    "\n",
    "list_of_dictionaries = []       \n",
    "\n",
    "# looking for the metadata of the detectors in detector_names\n",
    "for d in detector_names:\n",
    "    for j in range(nkey):\n",
    "        test = data_files[j]\n",
    "        if(test['name'] == 'detector_info' and test['metadata']['name'] == d):\n",
    "            list_of_dictionaries.append(test['metadata']) # this list contains all the info about the M1-140 detectors\n",
    "            break"
   ]
  },
  {
   "cell_type": "markdown",
   "metadata": {},
   "source": [
    "Some of the keys have the same value for all the dictionaries (i.e., for all the detectors in the channel). I built up an array for each key that is not \"constant\", in order to better work with them."
   ]
  },
  {
   "cell_type": "code",
   "execution_count": 3,
   "metadata": {},
   "outputs": [],
   "source": [
    "# the following quantities are actually identical for each detector\n",
    "# (I checked that by means of the all_equals function defined below)\n",
    "fwhm = list_of_dictionaries[0]['fwhm_arcmin']\n",
    "ellipticity = list_of_dictionaries[0]['ellipticity'] # it's zero, IS THIS REALISTIC?\n",
    "bandcenter = list_of_dictionaries[0]['bandcenter_ghz']\n",
    "bandwidth = list_of_dictionaries[0]['bandwidth_ghz']\n",
    "sampling_freq = list_of_dictionaries[0]['sampling_rate_hz']\n",
    "net = list_of_dictionaries[0]['net_ukrts']\n",
    "pol_sensitivity = list_of_dictionaries[0]['pol_sensitivity_ukarcmin']\n",
    "fknee = list_of_dictionaries[0]['fknee_mhz']\n",
    "fmin = list_of_dictionaries[0]['fmin_hz']\n",
    "alpha = list_of_dictionaries[0]['alpha']\n",
    "\n",
    "def all_equals(string):\n",
    "    test = np.empty(ndet,dtype=object)\n",
    "    for i in det_indices:\n",
    "        test[i] = list_of_dictionaries[i][string]\n",
    "    return all(x==test[0] for x in test)\n",
    "# example of usage: print(all_equals('alpha')\n",
    "\n",
    "# instead, the following change detector by detector\n",
    "pol_array = np.empty(ndet,dtype=object)\n",
    "orient_array = np.empty(ndet,dtype=object)\n",
    "quat_array = np.empty((ndet,4))\n",
    "\n",
    "for i in det_indices:\n",
    "    pol_array[i] = list_of_dictionaries[i]['pol']\n",
    "    orient_array[i] = list_of_dictionaries[i]['orient']\n",
    "    quat_array[i] = np.array(list_of_dictionaries[i]['quat'])"
   ]
  },
  {
   "cell_type": "markdown",
   "metadata": {},
   "source": [
    "Here I'm printing the offset quaternions associated to a pair of T/B detectors. Shouldn't they be identical?"
   ]
  },
  {
   "cell_type": "code",
   "execution_count": 4,
   "metadata": {},
   "outputs": [
    {
     "name": "stdout",
     "output_type": "stream",
     "text": [
      "detector M02_030_QA_140T: [-0.08355164 -0.14339497  0.          0.98613235]\n",
      "detector M02_030_QA_140B: [-0.16047549 -0.04231562  0.69730087  0.69730087]\n"
     ]
    }
   ],
   "source": [
    "print('detector '+str(list_of_dictionaries[0]['name'])+': '+str(quat_array[0]))\n",
    "print('detector '+str(list_of_dictionaries[1]['name'])+': '+str(quat_array[1]))"
   ]
  },
  {
   "cell_type": "code",
   "execution_count": 7,
   "metadata": {},
   "outputs": [
    {
     "name": "stdout",
     "output_type": "stream",
     "text": [
      "['Q' 'Q' 'Q' 'Q' 'Q' 'Q' 'U' 'U' 'U' 'U' 'U' 'U' 'Q' 'Q' 'U' 'U' 'Q' 'Q'\n",
      " 'Q' 'Q' 'U' 'U' 'U' 'U' 'U' 'U' 'U' 'U' 'U' 'U' 'U' 'U' 'U' 'U' 'Q' 'Q'\n",
      " 'Q' 'Q' 'U' 'U' 'U' 'U' 'Q' 'Q' 'Q' 'Q' 'U' 'U' 'U' 'U' 'Q' 'Q' 'Q' 'Q'\n",
      " 'Q' 'Q' 'Q' 'Q' 'Q' 'Q' 'Q' 'Q' 'Q' 'Q' 'U' 'U' 'U' 'U' 'Q' 'Q' 'Q' 'Q'\n",
      " 'U' 'U' 'Q' 'Q' 'U' 'U' 'U' 'U' 'Q' 'Q' 'Q' 'Q' 'U' 'U' 'U' 'U' 'Q' 'Q'\n",
      " 'Q' 'Q' 'Q' 'Q' 'Q' 'Q' 'Q' 'Q' 'Q' 'Q' 'Q' 'Q' 'Q' 'Q' 'Q' 'Q' 'Q' 'Q'\n",
      " 'Q' 'Q' 'U' 'U' 'U' 'U' 'Q' 'Q' 'Q' 'Q' 'U' 'U' 'U' 'U' 'Q' 'Q' 'Q' 'Q'\n",
      " 'Q' 'Q' 'U' 'U' 'U' 'U' 'U' 'U' 'Q' 'Q' 'U' 'U' 'Q' 'Q' 'Q' 'Q' 'U' 'U'\n",
      " 'U' 'U' 'U' 'U' 'U' 'U' 'U' 'U' 'U' 'U' 'U' 'U' 'Q' 'Q' 'Q' 'Q' 'U' 'U'\n",
      " 'U' 'U' 'Q' 'Q' 'Q' 'Q' 'U' 'U' 'U' 'U' 'Q' 'Q' 'Q' 'Q' 'Q' 'Q' 'Q' 'Q'\n",
      " 'Q' 'Q' 'Q' 'Q' 'Q' 'Q' 'U' 'U' 'U' 'U' 'Q' 'Q' 'Q' 'Q' 'U' 'U' 'Q' 'Q'\n",
      " 'U' 'U' 'U' 'U' 'Q' 'Q' 'Q' 'Q' 'U' 'U' 'U' 'U' 'Q' 'Q' 'Q' 'Q' 'Q' 'Q'\n",
      " 'Q' 'Q' 'Q' 'Q' 'Q' 'Q' 'Q' 'Q' 'Q' 'Q' 'Q' 'Q' 'Q' 'Q' 'Q' 'Q' 'U' 'U'\n",
      " 'U' 'U' 'Q' 'Q' 'Q' 'Q' 'U' 'U' 'U' 'U' 'Q' 'Q' 'Q' 'Q' 'Q' 'Q' 'U' 'U'\n",
      " 'U' 'U' 'U' 'U' 'Q' 'Q' 'U' 'U' 'Q' 'Q' 'Q' 'Q' 'U' 'U' 'U' 'U' 'U' 'U'\n",
      " 'U' 'U' 'U' 'U' 'U' 'U' 'U' 'U' 'Q' 'Q' 'Q' 'Q' 'U' 'U' 'U' 'U' 'Q' 'Q'\n",
      " 'Q' 'Q' 'U' 'U' 'U' 'U' 'Q' 'Q' 'Q' 'Q' 'Q' 'Q' 'Q' 'Q' 'Q' 'Q' 'Q' 'Q'\n",
      " 'Q' 'Q' 'U' 'U' 'U' 'U' 'Q' 'Q' 'Q' 'Q' 'U' 'U' 'Q' 'Q' 'U' 'U' 'U' 'U'\n",
      " 'Q' 'Q' 'Q' 'Q' 'U' 'U' 'U' 'U' 'Q' 'Q' 'Q' 'Q' 'Q' 'Q' 'Q' 'Q' 'Q' 'Q'\n",
      " 'Q' 'Q' 'Q' 'Q' 'Q' 'Q' 'Q' 'Q' 'Q' 'Q' 'Q' 'Q' 'U' 'U' 'U' 'U' 'Q' 'Q'\n",
      " 'Q' 'Q' 'U' 'U' 'U' 'U']\n"
     ]
    }
   ],
   "source": [
    "print(orient_array)"
   ]
  },
  {
   "cell_type": "code",
   "execution_count": null,
   "metadata": {},
   "outputs": [],
   "source": []
  }
 ],
 "metadata": {
  "kernelspec": {
   "display_name": "Python 3 (ipykernel)",
   "language": "python",
   "name": "python3"
  },
  "language_info": {
   "codemirror_mode": {
    "name": "ipython",
    "version": 3
   },
   "file_extension": ".py",
   "mimetype": "text/x-python",
   "name": "python",
   "nbconvert_exporter": "python",
   "pygments_lexer": "ipython3",
   "version": "3.8.5"
  }
 },
 "nbformat": 4,
 "nbformat_minor": 4
}
